{
  "nbformat": 4,
  "nbformat_minor": 0,
  "metadata": {
    "colab": {
      "provenance": [],
      "gpuType": "T4",
      "authorship_tag": "ABX9TyOredovjiTo30mf+rRGyD9D",
      "include_colab_link": true
    },
    "kernelspec": {
      "name": "python3",
      "display_name": "Python 3"
    },
    "language_info": {
      "name": "python"
    },
    "accelerator": "GPU",
    "gpuClass": "standard"
  },
  "cells": [
    {
      "cell_type": "markdown",
      "metadata": {
        "id": "view-in-github",
        "colab_type": "text"
      },
      "source": [
        "<a href=\"https://colab.research.google.com/github/jpulikanti/ExPRED-AI/blob/main/BERT%20MLM_Ex.ipynb\" target=\"_parent\"><img src=\"https://colab.research.google.com/assets/colab-badge.svg\" alt=\"Open In Colab\"/></a>"
      ]
    },
    {
      "cell_type": "code",
      "execution_count": null,
      "metadata": {
        "id": "TrPIuUAIUFbi"
      },
      "outputs": [],
      "source": [
        "!pip install transformers"
      ]
    },
    {
      "cell_type": "code",
      "source": [
        "from transformers import pipeline\n",
        "unmasker=pipeline('fill-mask', model= 'bert-base-uncased')"
      ],
      "metadata": {
        "id": "14DSsQtsUZUM"
      },
      "execution_count": null,
      "outputs": []
    },
    {
      "cell_type": "code",
      "source": [
        "unmasker(\"Artificial Intelligence [MASK] take over the world.\")"
      ],
      "metadata": {
        "colab": {
          "base_uri": "https://localhost:8080/"
        },
        "id": "uOY5GtH9YkeB",
        "outputId": "c1f0d36c-15bf-4598-bb43-db740e39b2e2"
      },
      "execution_count": 17,
      "outputs": [
        {
          "output_type": "execute_result",
          "data": {
            "text/plain": [
              "[{'score': 0.3182413578033447,\n",
              "  'token': 2064,\n",
              "  'token_str': 'can',\n",
              "  'sequence': 'artificial intelligence can take over the world.'},\n",
              " {'score': 0.18299654126167297,\n",
              "  'token': 2097,\n",
              "  'token_str': 'will',\n",
              "  'sequence': 'artificial intelligence will take over the world.'},\n",
              " {'score': 0.0560014508664608,\n",
              "  'token': 2000,\n",
              "  'token_str': 'to',\n",
              "  'sequence': 'artificial intelligence to take over the world.'},\n",
              " {'score': 0.04519493132829666,\n",
              "  'token': 2015,\n",
              "  'token_str': '##s',\n",
              "  'sequence': 'artificial intelligences take over the world.'},\n",
              " {'score': 0.045153144747018814,\n",
              "  'token': 2052,\n",
              "  'token_str': 'would',\n",
              "  'sequence': 'artificial intelligence would take over the world.'}]"
            ]
          },
          "metadata": {},
          "execution_count": 17
        }
      ]
    },
    {
      "cell_type": "code",
      "source": [
        "unmasker('My mom is obsessed with cleanliness, that [MASK] keeps house beautiful')"
      ],
      "metadata": {
        "colab": {
          "base_uri": "https://localhost:8080/"
        },
        "id": "gOdjCNjlY24u",
        "outputId": "07b6eebc-cdda-4429-93f9-3b768e599932"
      },
      "execution_count": 19,
      "outputs": [
        {
          "output_type": "execute_result",
          "data": {
            "text/plain": [
              "[{'score': 0.7943015694618225,\n",
              "  'token': 2016,\n",
              "  'token_str': 'she',\n",
              "  'sequence': 'my mom is obsessed with cleanliness, that she keeps house beautiful'},\n",
              " {'score': 0.016499115154147148,\n",
              "  'token': 2008,\n",
              "  'token_str': 'that',\n",
              "  'sequence': 'my mom is obsessed with cleanliness, that that keeps house beautiful'},\n",
              " {'score': 0.015847111120820045,\n",
              "  'token': 2009,\n",
              "  'token_str': 'it',\n",
              "  'sequence': 'my mom is obsessed with cleanliness, that it keeps house beautiful'},\n",
              " {'score': 0.014615168794989586,\n",
              "  'token': 2002,\n",
              "  'token_str': 'he',\n",
              "  'sequence': 'my mom is obsessed with cleanliness, that he keeps house beautiful'},\n",
              " {'score': 0.010983931832015514,\n",
              "  'token': 2029,\n",
              "  'token_str': 'which',\n",
              "  'sequence': 'my mom is obsessed with cleanliness, that which keeps house beautiful'}]"
            ]
          },
          "metadata": {},
          "execution_count": 19
        }
      ]
    }
  ]
}